{
 "cells": [
  {
   "cell_type": "markdown",
   "metadata": {},
   "source": [
    "[El enlace para encontrar el lab de tableau-data-viz](https://public.tableau.com/app/profile/mohamed.el.marraki/viz/tableau-data-viz_16447584527210/NFLTeamPerformanceDashboard)"
   ]
  },
  {
   "cell_type": "markdown",
   "metadata": {},
   "source": [
    "[El enlace para encontrar los bonus del lab de tableau-data-viz](https://public.tableau.com/app/profile/mohamed.el.marraki/viz/countriesoftheworldtableau-data-vizBonus/GDPpercapita)"
   ]
  }
 ],
 "metadata": {
  "language_info": {
   "name": "python"
  },
  "orig_nbformat": 4
 },
 "nbformat": 4,
 "nbformat_minor": 2
}
