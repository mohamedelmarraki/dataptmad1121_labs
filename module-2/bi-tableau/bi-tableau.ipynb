{
 "cells": [
  {
   "cell_type": "markdown",
   "metadata": {},
   "source": [
    "[El enlace de lab de [bi-tableau]](https://public.tableau.com/app/profile/mohamed.el.marraki/viz/lab_16446832553650/Challenge6?publish=yes)"
   ]
  }
 ],
 "metadata": {
  "language_info": {
   "name": "python"
  },
  "orig_nbformat": 4
 },
 "nbformat": 4,
 "nbformat_minor": 2
}
