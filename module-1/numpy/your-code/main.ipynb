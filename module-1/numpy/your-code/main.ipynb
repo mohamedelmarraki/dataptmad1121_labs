{
 "cells": [
  {
   "cell_type": "markdown",
   "metadata": {},
   "source": [
    "# Introduction to NumPy\n",
    "\n",
    "\n",
    "#### 1. Import NumPy under the name np."
   ]
  },
  {
   "cell_type": "code",
   "execution_count": 22,
   "metadata": {},
   "outputs": [],
   "source": [
    "# your code here\n",
    "import numpy as np"
   ]
  },
  {
   "cell_type": "markdown",
   "metadata": {},
   "source": [
    "#### 2. Print your NumPy version."
   ]
  },
  {
   "cell_type": "code",
   "execution_count": 23,
   "metadata": {},
   "outputs": [
    {
     "name": "stdout",
     "output_type": "stream",
     "text": [
      "1.21.2\n"
     ]
    }
   ],
   "source": [
    "# your code here\n",
    "print(np.__version__)"
   ]
  },
  {
   "cell_type": "markdown",
   "metadata": {},
   "source": [
    "#### 3. Generate a 2x3x5 3-dimensional array with random values. Assign the array to variable *a*.\n",
    "**Challenge**: there are at least three easy ways that use numpy to generate random arrays. How many ways can you find?"
   ]
  },
  {
   "cell_type": "code",
   "execution_count": 39,
   "metadata": {},
   "outputs": [
    {
     "name": "stdout",
     "output_type": "stream",
     "text": [
      "[[[0.82188142 0.78377447 0.70404949 0.92441797 0.47667421]\n",
      "  [0.21013939 0.81997782 0.25596069 0.7775385  0.60275188]\n",
      "  [0.30850465 0.58725225 0.40047608 0.25658615 0.97509647]]\n",
      "\n",
      " [[0.91474746 0.85361999 0.47454339 0.46276302 0.51178859]\n",
      "  [0.33364878 0.21179406 0.62205467 0.93709653 0.33920148]\n",
      "  [0.72976825 0.83747511 0.87452059 0.74142645 0.15244989]]]\n"
     ]
    }
   ],
   "source": [
    "# Method 1\n",
    "a = np.random.random((2,3,5))\n",
    "print(a)"
   ]
  },
  {
   "cell_type": "code",
   "execution_count": 40,
   "metadata": {},
   "outputs": [
    {
     "data": {
      "text/plain": [
       "array([[[0.27679197, 0.64892995, 0.26186034, 0.79143158, 0.72311281],\n",
       "        [0.8768192 , 0.14746962, 0.40790278, 0.80164304, 0.30857639],\n",
       "        [0.74701893, 0.35038421, 0.78538292, 0.88916289, 0.63397733]],\n",
       "\n",
       "       [[0.21652487, 0.1473051 , 0.73044957, 0.81377714, 0.18503706],\n",
       "        [0.24101586, 0.98763486, 0.30667221, 0.33672218, 0.13641781],\n",
       "        [0.75231327, 0.08951806, 0.13609097, 0.74059797, 0.81351557]]])"
      ]
     },
     "execution_count": 40,
     "metadata": {},
     "output_type": "execute_result"
    }
   ],
   "source": [
    "# Method 2\n",
    "np.random.rand(2,3,5)"
   ]
  },
  {
   "cell_type": "code",
   "execution_count": 41,
   "metadata": {},
   "outputs": [
    {
     "data": {
      "text/plain": [
       "array([[[2, 3, 2, 2, 3],\n",
       "        [2, 3, 3, 2, 2],\n",
       "        [2, 2, 2, 3, 3]],\n",
       "\n",
       "       [[3, 2, 3, 2, 3],\n",
       "        [3, 2, 3, 3, 3],\n",
       "        [2, 2, 3, 2, 3]]])"
      ]
     },
     "execution_count": 41,
     "metadata": {},
     "output_type": "execute_result"
    }
   ],
   "source": [
    "# Method 3\n",
    "np.random.randint(2,4,(2,3,5))"
   ]
  },
  {
   "cell_type": "markdown",
   "metadata": {},
   "source": [
    "#### 4. Print *a*.\n"
   ]
  },
  {
   "cell_type": "code",
   "execution_count": 42,
   "metadata": {},
   "outputs": [
    {
     "name": "stdout",
     "output_type": "stream",
     "text": [
      "[[[0.82188142 0.78377447 0.70404949 0.92441797 0.47667421]\n",
      "  [0.21013939 0.81997782 0.25596069 0.7775385  0.60275188]\n",
      "  [0.30850465 0.58725225 0.40047608 0.25658615 0.97509647]]\n",
      "\n",
      " [[0.91474746 0.85361999 0.47454339 0.46276302 0.51178859]\n",
      "  [0.33364878 0.21179406 0.62205467 0.93709653 0.33920148]\n",
      "  [0.72976825 0.83747511 0.87452059 0.74142645 0.15244989]]]\n"
     ]
    }
   ],
   "source": [
    "# your code here\n",
    "print(a)"
   ]
  },
  {
   "cell_type": "markdown",
   "metadata": {},
   "source": [
    "#### 5. Create a 5x2x3 3-dimensional array with all values equaling 1. Assign the array to variable *b*."
   ]
  },
  {
   "cell_type": "code",
   "execution_count": 96,
   "metadata": {},
   "outputs": [
    {
     "name": "stdout",
     "output_type": "stream",
     "text": [
      "[[[2 1 2]\n",
      "  [1 1 1]]\n",
      "\n",
      " [[1 2 1]\n",
      "  [1 2 2]]\n",
      "\n",
      " [[2 1 1]\n",
      "  [1 2 1]]\n",
      "\n",
      " [[1 2 1]\n",
      "  [2 2 1]]\n",
      "\n",
      " [[1 1 1]\n",
      "  [2 2 1]]]\n"
     ]
    }
   ],
   "source": [
    "# your code here\n",
    "b = np.random.randint(1,3,(5,2,3))\n",
    "print(b)"
   ]
  },
  {
   "cell_type": "markdown",
   "metadata": {},
   "source": [
    "#### 6. Print *b*.\n"
   ]
  },
  {
   "cell_type": "code",
   "execution_count": 97,
   "metadata": {},
   "outputs": [
    {
     "name": "stdout",
     "output_type": "stream",
     "text": [
      "[[[2 1 2]\n",
      "  [1 1 1]]\n",
      "\n",
      " [[1 2 1]\n",
      "  [1 2 2]]\n",
      "\n",
      " [[2 1 1]\n",
      "  [1 2 1]]\n",
      "\n",
      " [[1 2 1]\n",
      "  [2 2 1]]\n",
      "\n",
      " [[1 1 1]\n",
      "  [2 2 1]]]\n",
      "(5, 2, 3)\n"
     ]
    }
   ],
   "source": [
    "# your code here\n",
    "print(b)\n",
    "print(b.shape)"
   ]
  },
  {
   "cell_type": "markdown",
   "metadata": {},
   "source": [
    "#### 7. Do *a* and *b* have the same size? How do you prove that in Python code?"
   ]
  },
  {
   "cell_type": "code",
   "execution_count": 98,
   "metadata": {},
   "outputs": [
    {
     "name": "stdout",
     "output_type": "stream",
     "text": [
      "30\n",
      "30\n"
     ]
    }
   ],
   "source": [
    "# your code here\n",
    "print(a.size)\n",
    "print(b.size)"
   ]
  },
  {
   "cell_type": "markdown",
   "metadata": {},
   "source": [
    "#### 8. Are you able to add *a* and *b*? Why or why not?\n"
   ]
  },
  {
   "cell_type": "code",
   "execution_count": 99,
   "metadata": {},
   "outputs": [
    {
     "ename": "ValueError",
     "evalue": "operands could not be broadcast together with shapes (2,3,5) (5,2,3) ",
     "output_type": "error",
     "traceback": [
      "\u001b[0;31m---------------------------------------------------------------------------\u001b[0m",
      "\u001b[0;31mValueError\u001b[0m                                Traceback (most recent call last)",
      "\u001b[0;32m/var/folders/h8/smk241t96gn48m2h56zj_vpm0000gn/T/ipykernel_1751/839085804.py\u001b[0m in \u001b[0;36m<module>\u001b[0;34m\u001b[0m\n\u001b[1;32m      1\u001b[0m \u001b[0;31m# your answer here\u001b[0m\u001b[0;34m\u001b[0m\u001b[0;34m\u001b[0m\u001b[0;34m\u001b[0m\u001b[0m\n\u001b[0;32m----> 2\u001b[0;31m \u001b[0msums\u001b[0m \u001b[0;34m=\u001b[0m \u001b[0ma\u001b[0m \u001b[0;34m+\u001b[0m \u001b[0mb\u001b[0m\u001b[0;34m\u001b[0m\u001b[0;34m\u001b[0m\u001b[0m\n\u001b[0m",
      "\u001b[0;31mValueError\u001b[0m: operands could not be broadcast together with shapes (2,3,5) (5,2,3) "
     ]
    }
   ],
   "source": [
    "# your answer here\n",
    "sums = a + b"
   ]
  },
  {
   "cell_type": "markdown",
   "metadata": {},
   "source": [
    "#### 9. Transpose *b* so that it has the same structure of *a* (i.e. become a 2x3x5 array). Assign the transposed array to variable *c*."
   ]
  },
  {
   "cell_type": "code",
   "execution_count": 100,
   "metadata": {},
   "outputs": [
    {
     "name": "stdout",
     "output_type": "stream",
     "text": [
      "[[[2 1 2 1 1]\n",
      "  [1 2 1 2 1]\n",
      "  [2 1 1 1 1]]\n",
      "\n",
      " [[1 1 1 2 2]\n",
      "  [1 2 2 2 2]\n",
      "  [1 2 1 1 1]]]\n"
     ]
    }
   ],
   "source": [
    "# your code here\n",
    "c = np.transpose(b,(1,2,0))\n",
    "print(c)"
   ]
  },
  {
   "cell_type": "markdown",
   "metadata": {},
   "source": [
    "#### 10. Try to add *a* and *c*. Now it should work. Assign the sum to variable *d*. But why does it work now?"
   ]
  },
  {
   "cell_type": "code",
   "execution_count": 101,
   "metadata": {},
   "outputs": [
    {
     "name": "stdout",
     "output_type": "stream",
     "text": [
      "[[[0.82188142 0.78377447 0.70404949 0.92441797 0.47667421]\n",
      "  [0.21013939 0.81997782 0.25596069 0.7775385  0.60275188]\n",
      "  [0.30850465 0.58725225 0.40047608 0.25658615 0.97509647]]\n",
      "\n",
      " [[0.91474746 0.85361999 0.47454339 0.46276302 0.51178859]\n",
      "  [0.33364878 0.21179406 0.62205467 0.93709653 0.33920148]\n",
      "  [0.72976825 0.83747511 0.87452059 0.74142645 0.15244989]]]\n"
     ]
    }
   ],
   "source": [
    "# your code/answer here\n",
    "d = a + c\n",
    "print(sums1)"
   ]
  },
  {
   "cell_type": "markdown",
   "metadata": {},
   "source": [
    "#### 11. Print *a* and *d*. Notice the difference and relation of the two array in terms of the values? Explain."
   ]
  },
  {
   "cell_type": "code",
   "execution_count": 102,
   "metadata": {},
   "outputs": [
    {
     "name": "stdout",
     "output_type": "stream",
     "text": [
      "[[[0.82188142 0.78377447 0.70404949 0.92441797 0.47667421]\n",
      "  [0.21013939 0.81997782 0.25596069 0.7775385  0.60275188]\n",
      "  [0.30850465 0.58725225 0.40047608 0.25658615 0.97509647]]\n",
      "\n",
      " [[0.91474746 0.85361999 0.47454339 0.46276302 0.51178859]\n",
      "  [0.33364878 0.21179406 0.62205467 0.93709653 0.33920148]\n",
      "  [0.72976825 0.83747511 0.87452059 0.74142645 0.15244989]]]\n",
      "[[[2.82188142 1.78377447 2.70404949 1.92441797 1.47667421]\n",
      "  [1.21013939 2.81997782 1.25596069 2.7775385  1.60275188]\n",
      "  [2.30850465 1.58725225 1.40047608 1.25658615 1.97509647]]\n",
      "\n",
      " [[1.91474746 1.85361999 1.47454339 2.46276302 2.51178859]\n",
      "  [1.33364878 2.21179406 2.62205467 2.93709653 2.33920148]\n",
      "  [1.72976825 2.83747511 1.87452059 1.74142645 1.15244989]]]\n"
     ]
    }
   ],
   "source": [
    "# your code/answer here\n",
    "print(a)\n",
    "print(d)"
   ]
  },
  {
   "cell_type": "markdown",
   "metadata": {},
   "source": [
    "#### 12. Multiply *a* and *c*. Assign the result to *e*."
   ]
  },
  {
   "cell_type": "code",
   "execution_count": 103,
   "metadata": {},
   "outputs": [
    {
     "name": "stdout",
     "output_type": "stream",
     "text": [
      "[[[1.64376284 0.78377447 1.40809898 0.92441797 0.47667421]\n",
      "  [0.21013939 1.63995565 0.25596069 1.55507701 0.60275188]\n",
      "  [0.61700931 0.58725225 0.40047608 0.25658615 0.97509647]]\n",
      "\n",
      " [[0.91474746 0.85361999 0.47454339 0.92552604 1.02357717]\n",
      "  [0.33364878 0.42358811 1.24410935 1.87419305 0.67840296]\n",
      "  [0.72976825 1.67495023 0.87452059 0.74142645 0.15244989]]]\n"
     ]
    }
   ],
   "source": [
    "# your code here\n",
    "e = a*c\n",
    "print(e)"
   ]
  },
  {
   "cell_type": "markdown",
   "metadata": {},
   "source": [
    "#### 13. Does *e* equal to *a*? Why or why not?\n"
   ]
  },
  {
   "cell_type": "code",
   "execution_count": 105,
   "metadata": {},
   "outputs": [
    {
     "data": {
      "text/plain": [
       "array([[[False,  True, False,  True,  True],\n",
       "        [ True, False,  True, False,  True],\n",
       "        [False,  True,  True,  True,  True]],\n",
       "\n",
       "       [[ True,  True,  True, False, False],\n",
       "        [ True, False, False, False, False],\n",
       "        [ True, False,  True,  True,  True]]])"
      ]
     },
     "execution_count": 105,
     "metadata": {},
     "output_type": "execute_result"
    }
   ],
   "source": [
    "# your code/answer here\n",
    "e == a"
   ]
  },
  {
   "cell_type": "markdown",
   "metadata": {},
   "source": [
    "#### 14. Identify the max, min, and mean values in *d*. Assign those values to variables *d_max*, *d_min* and *d_mean*."
   ]
  },
  {
   "cell_type": "code",
   "execution_count": 106,
   "metadata": {},
   "outputs": [
    {
     "name": "stdout",
     "output_type": "stream",
     "text": [
      "2.9370965273396132\n",
      "1.1524498876651534\n",
      "1.9967326565214336\n"
     ]
    }
   ],
   "source": [
    "# your code here\n",
    "d_max=np.amax(d)\n",
    "print(d_max)\n",
    "d_min=np.amin(d)\n",
    "print(d_min)\n",
    "d_mean=np.mean(d)\n",
    "print(d_mean)"
   ]
  },
  {
   "cell_type": "markdown",
   "metadata": {},
   "source": [
    "#### 15. Now we want to label the values in *d*. First create an empty array *f* with the same shape (i.e. 2x3x5) as *d* using `np.empty`.\n"
   ]
  },
  {
   "cell_type": "code",
   "execution_count": 112,
   "metadata": {},
   "outputs": [
    {
     "name": "stdout",
     "output_type": "stream",
     "text": [
      "[[[1.64376284 0.78377447 1.40809898 0.92441797 0.47667421]\n",
      "  [0.21013939 1.63995565 0.25596069 1.55507701 0.60275188]\n",
      "  [0.61700931 0.58725225 0.40047608 0.25658615 0.97509647]]\n",
      "\n",
      " [[0.91474746 0.85361999 0.47454339 0.92552604 1.02357717]\n",
      "  [0.33364878 0.42358811 1.24410935 1.87419305 0.67840296]\n",
      "  [0.72976825 1.67495023 0.87452059 0.74142645 0.15244989]]]\n"
     ]
    }
   ],
   "source": [
    "# your code here\n",
    "f = np.empty([2,3,5])\n",
    "print(f)"
   ]
  },
  {
   "cell_type": "markdown",
   "metadata": {},
   "source": [
    "#### 16. Populate the values in *f*. \n",
    "\n",
    "For each value in *d*, if it's larger than *d_min* but smaller than *d_mean*, assign 25 to the corresponding value in *f*. If a value in *d* is larger than *d_mean* but smaller than *d_max*, assign 75 to the corresponding value in *f*. If a value equals to *d_mean*, assign 50 to the corresponding value in *f*. Assign 0 to the corresponding value(s) in *f* for *d_min* in *d*. Assign 100 to the corresponding value(s) in *f* for *d_max* in *d*. In the end, f should have only the following values: 0, 25, 50, 75, and 100.\n",
    "\n",
    "**Note**: you don't have to use Numpy in this question."
   ]
  },
  {
   "cell_type": "code",
   "execution_count": 119,
   "metadata": {},
   "outputs": [
    {
     "ename": "SyntaxError",
     "evalue": "'return' outside function (187879770.py, line 6)",
     "output_type": "error",
     "traceback": [
      "\u001b[0;36m  File \u001b[0;32m\"/var/folders/h8/smk241t96gn48m2h56zj_vpm0000gn/T/ipykernel_1751/187879770.py\"\u001b[0;36m, line \u001b[0;32m6\u001b[0m\n\u001b[0;31m    return 25\u001b[0m\n\u001b[0m    ^\u001b[0m\n\u001b[0;31mSyntaxError\u001b[0m\u001b[0;31m:\u001b[0m 'return' outside function\n"
     ]
    }
   ],
   "source": [
    "# your code here\n",
    "for i in d:\n",
    "    for j in i:\n",
    "        for t in j:\n",
    "            if t > d_min and t < d_mean:\n",
    "                return 25\n",
    "            elif t > d_mean and t< d_max:\n",
    "                return 75\n",
    "            elif t == d_mean:\n",
    "                return 50\n",
    "            elif t == d_min:\n",
    "                return 0\n",
    "            elif t == d_max:\n",
    "                return 100\n",
    "  "
   ]
  },
  {
   "cell_type": "markdown",
   "metadata": {},
   "source": [
    "#### 17. Print *d* and *f*. Do you have your expected *f*?\n",
    "For instance, if your *d* is:\n",
    "```python\n",
    "[[[1.85836099, 1.67064465, 1.62576044, 1.40243961, 1.88454931],\n",
    "[1.75354326, 1.69403643, 1.36729252, 1.61415071, 1.12104981],\n",
    "[1.72201435, 1.1862918 , 1.87078449, 1.7726778 , 1.88180042]],\n",
    "[[1.44747908, 1.31673383, 1.02000951, 1.52218947, 1.97066381],\n",
    "[1.79129243, 1.74983003, 1.96028037, 1.85166831, 1.65450881],\n",
    "[1.18068344, 1.9587381 , 1.00656599, 1.93402165, 1.73514584]]]\n",
    "```\n",
    "Your *f* should be:\n",
    "```python\n",
    "[[[ 75.,  75.,  75.,  25.,  75.],\n",
    "[ 75.,  75.,  25.,  25.,  25.],\n",
    "[ 75.,  25.,  75.,  75.,  75.]],\n",
    "[[ 25.,  25.,  25.,  25., 100.],\n",
    "[ 75.,  75.,  75.,  75.,  75.],\n",
    "[ 25.,  75.,   0.,  75.,  75.]]]\n",
    "```"
   ]
  },
  {
   "cell_type": "code",
   "execution_count": null,
   "metadata": {},
   "outputs": [],
   "source": [
    "# your code here"
   ]
  },
  {
   "cell_type": "markdown",
   "metadata": {},
   "source": [
    "#### 18. Bonus question: instead of using numbers (i.e. 0, 25, 50, 75, and 100), use string values  (\"A\", \"B\", \"C\", \"D\", and \"E\") to label the array elements. For the example above, the expected result is:\n",
    "\n",
    "```python\n",
    "[[[ 'D',  'D',  'D',  'B',  'D'],\n",
    "[ 'D',  'D',  'B',  'B',  'B'],\n",
    "[ 'D',  'B',  'D',  'D',  'D']],\n",
    "[[ 'B',  'B',  'B',  'B',  'E'],\n",
    "[ 'D',  'D',  'D',  'D',  'D'],\n",
    "[ 'B',  'D',   'A',  'D', 'D']]]\n",
    "```\n",
    "**Note**: you don't have to use Numpy in this question."
   ]
  },
  {
   "cell_type": "code",
   "execution_count": null,
   "metadata": {},
   "outputs": [],
   "source": [
    "# your code here"
   ]
  }
 ],
 "metadata": {
  "kernelspec": {
   "display_name": "Python [conda env:ironhack]",
   "language": "python",
   "name": "conda-env-ironhack-py"
  },
  "language_info": {
   "codemirror_mode": {
    "name": "ipython",
    "version": 3
   },
   "file_extension": ".py",
   "mimetype": "text/x-python",
   "name": "python",
   "nbconvert_exporter": "python",
   "pygments_lexer": "ipython3",
   "version": "3.7.11"
  }
 },
 "nbformat": 4,
 "nbformat_minor": 2
}
