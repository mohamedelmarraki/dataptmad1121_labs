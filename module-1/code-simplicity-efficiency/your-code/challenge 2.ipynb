{
 "cells": [
  {
   "cell_type": "code",
   "execution_count": 5,
   "id": "52a43c62",
   "metadata": {},
   "outputs": [],
   "source": [
    "def RandomStringGenerator(l=12):\n",
    "    import random, string\n",
    "    a = string.ascii_letters+string.digits\n",
    "    s = [random.choice(a) for i in range(l)]\n",
    "    return (\"\").join(s)"
   ]
  },
  {
   "cell_type": "code",
   "execution_count": 6,
   "metadata": {},
   "outputs": [],
   "source": [
    "def BatchStringGenerator(n):\n",
    "    import random, string, sys\n",
    "    r= []\n",
    "    n = int(input('How many random strings to generate? '))\n",
    "    a = int(input('Enter minimum string length: '))\n",
    "    b = int(input('Enter maximum string length: '))\n",
    "    for i in range(n):\n",
    "        c = None\n",
    "        if a < b:\n",
    "            c = random.choice(range(a, b))\n",
    "        elif a == b:\n",
    "            c = a\n",
    "        else:\n",
    "            sys.exit('Incorrect min and max string lengths. Try again.')\n",
    "        r.append(RandomStringGenerator(c))\n",
    "    return r\n",
    "\n",
    "\n",
    "    \n",
    "\n"
   ]
  },
  {
   "cell_type": "code",
   "execution_count": 7,
   "metadata": {},
   "outputs": [
    {
     "data": {
      "text/plain": [
       "['NIxr', 'iSv', 'DWHKw']"
      ]
     },
     "execution_count": 7,
     "metadata": {},
     "output_type": "execute_result"
    }
   ],
   "source": [
    "BatchStringGenerator(3)"
   ]
  }
 ],
 "metadata": {
  "interpreter": {
   "hash": "60572b19124cd312bd984631bfa95c8a5833ca5430b324ef6bd30ee345984400"
  },
  "kernelspec": {
   "display_name": "Python 3.7.11 64-bit ('project_m1': conda)",
   "name": "python3"
  },
  "language_info": {
   "codemirror_mode": {
    "name": "ipython",
    "version": 3
   },
   "file_extension": ".py",
   "mimetype": "text/x-python",
   "name": "python",
   "nbconvert_exporter": "python",
   "pygments_lexer": "ipython3",
   "version": "3.7.11"
  }
 },
 "nbformat": 4,
 "nbformat_minor": 5
}
