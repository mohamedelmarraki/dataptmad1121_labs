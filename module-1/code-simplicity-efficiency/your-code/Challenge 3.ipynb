{
 "cells": [
  {
   "cell_type": "code",
   "execution_count": 1,
   "id": "98da02d2",
   "metadata": {},
   "outputs": [],
   "source": [
    "def my_function(X):\n",
    "    if X<=5:\n",
    "        return \"select a number greather than 5\"\n",
    "    else:\n",
    "        return max([max([x, y, z]) for z in range(3, X) for y in range(4, X) for x in range(5, X) if (x*x==y*y+z*z)])"
   ]
  }
 ],
 "metadata": {
  "kernelspec": {
   "display_name": "Python [conda env:ironhack]",
   "language": "python",
   "name": "conda-env-ironhack-py"
  },
  "language_info": {
   "codemirror_mode": {
    "name": "ipython",
    "version": 3
   },
   "file_extension": ".py",
   "mimetype": "text/x-python",
   "name": "python",
   "nbconvert_exporter": "python",
   "pygments_lexer": "ipython3",
   "version": "3.7.11"
  }
 },
 "nbformat": 4,
 "nbformat_minor": 5
}
