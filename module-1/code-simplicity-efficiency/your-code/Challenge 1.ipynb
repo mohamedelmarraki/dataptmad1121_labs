{
 "cells": [
  {
   "cell_type": "code",
   "execution_count": 4,
   "metadata": {},
   "outputs": [],
   "source": [
    "def calculadora():\n",
    "    dic = {\"zero\":0, \"one\":1, \"two\":2, \"three\":3, \"four\":4, \"five\":5}\n",
    "    a = input(\"enter a number between one and five\")\n",
    "    oper = input(\"What operation do you want to perform: Plus or Minus?\")\n",
    "    b = input(\"Enter another number between one and five in English\")\n",
    "    lista = []\n",
    "    if a.lower() in dic:\n",
    "        lista.append(dic.get(a))\n",
    "    if b.lower() in dic:\n",
    "        lista.append(dic.get(b))\n",
    "    if oper.lower() == \"plus\":\n",
    "        result = sum(lista)\n",
    "        for i, y in dic.items():\n",
    "            if y ==result:\n",
    "                return(i)\n",
    "    if oper.lower() ==\"minus\":\n",
    "        result = lista[0]-lista[1]\n",
    "        for i, y in dic.items():\n",
    "            if y ==result:\n",
    "                return(i)\n",
    "    if a.lower() not in dic or b.lower() not in dic or oper.lower() != \"plus\" or  oper.lower() !=\"minus\":\n",
    "        print(\"Thanks for using this calculator, goodbye :)\")\n"
   ]
  },
  {
   "cell_type": "code",
   "execution_count": null,
   "metadata": {},
   "outputs": [],
   "source": []
  }
 ],
 "metadata": {
  "interpreter": {
   "hash": "60572b19124cd312bd984631bfa95c8a5833ca5430b324ef6bd30ee345984400"
  },
  "kernelspec": {
   "display_name": "Python 3.7.11 64-bit ('project_m1': conda)",
   "name": "python3"
  },
  "language_info": {
   "codemirror_mode": {
    "name": "ipython",
    "version": 3
   },
   "file_extension": ".py",
   "mimetype": "text/x-python",
   "name": "python",
   "nbconvert_exporter": "python",
   "pygments_lexer": "ipython3",
   "version": "3.7.11"
  }
 },
 "nbformat": 4,
 "nbformat_minor": 5
}
